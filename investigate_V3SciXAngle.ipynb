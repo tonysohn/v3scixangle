{
  "cells": [
    {
      "cell_type": "code",
      "source": [
        "## V3SciXAngle Investigation\n",
        "\n",
        "#This notebook is for investigating how to calculate `V3SciXAngle` in the siaf_alignment files.\n",
        "#In Cox & Lallo (2017), `V3SciXAngle` is defined as \"Angle from the V3 axis to the Sci x axis (degrees) at the reference point measured from V3 toward V2.\" It then states \"These values are derivable from the Sci2Idl coefficients and V3IdlYang and V3IdlParity.\"\n",
        "\n",
        "#Based on above, the first thing I'll try is to derive `V3SciXAngle` by first using `pysiaf.utils.tools.convert_polynomial_coefficients` and then adding or subtracting the `V3IdlYAngle`."
      ],
      "outputs": [],
      "execution_count": null,
      "metadata": {
        "collapsed": true,
        "jupyter": {
          "source_hidden": false,
          "outputs_hidden": false
        },
        "nteract": {
          "transient": {
            "deleting": false
          }
        }
      }
    },
    {
      "cell_type": "code",
      "source": [
        "import numpy as np\n",
        "import pysiaf"
      ],
      "outputs": [],
      "execution_count": 10,
      "metadata": {
        "collapsed": true,
        "jupyter": {
          "source_hidden": false,
          "outputs_hidden": false
        },
        "nteract": {
          "transient": {
            "deleting": false
          }
        },
        "execution": {
          "iopub.status.busy": "2021-05-20T15:55:14.459Z",
          "iopub.execute_input": "2021-05-20T15:55:14.464Z",
          "iopub.status.idle": "2021-05-20T15:55:14.471Z",
          "shell.execute_reply": "2021-05-20T15:55:14.477Z"
        }
      }
    },
    {
      "cell_type": "code",
      "source": [
        "niriss = pysiaf.Siaf('NIRISS')\n",
        "nis_cen = niriss['NIS_CEN']"
      ],
      "outputs": [],
      "execution_count": 4,
      "metadata": {
        "collapsed": true,
        "jupyter": {
          "source_hidden": false,
          "outputs_hidden": false
        },
        "nteract": {
          "transient": {
            "deleting": false
          }
        },
        "execution": {
          "iopub.status.busy": "2021-05-20T15:25:12.649Z",
          "iopub.execute_input": "2021-05-20T15:25:12.652Z",
          "iopub.status.idle": "2021-05-20T15:25:12.673Z",
          "shell.execute_reply": "2021-05-20T15:25:12.675Z"
        }
      }
    },
    {
      "cell_type": "code",
      "source": [
        "coeffs = nis_cen.get_polynomial_coefficients()\n",
        "A = coeffs['Sci2IdlX']\n",
        "B = coeffs['Sci2IdlY']\n",
        "C = coeffs['Idl2SciX']\n",
        "D = coeffs['Idl2SciY']"
      ],
      "outputs": [],
      "execution_count": 5,
      "metadata": {
        "collapsed": true,
        "jupyter": {
          "source_hidden": false,
          "outputs_hidden": false
        },
        "nteract": {
          "transient": {
            "deleting": false
          }
        },
        "execution": {
          "iopub.status.busy": "2021-05-20T15:26:12.977Z",
          "iopub.execute_input": "2021-05-20T15:26:12.981Z",
          "iopub.status.idle": "2021-05-20T15:26:12.985Z",
          "shell.execute_reply": "2021-05-20T15:26:12.989Z"
        }
      }
    },
    {
      "cell_type": "code",
      "source": [
        "poly_coeffs = pysiaf.utils.tools.convert_polynomial_coefficients(A, B, C, D)\n",
        "poly_coeffs"
      ],
      "outputs": [
        {
          "output_type": "execute_result",
          "execution_count": 6,
          "data": {
            "text/plain": "(array([-0.00000000e+00,  6.53922932e-02, -0.00000000e+00, -2.30483923e-08,\n        -5.37698669e-09, -2.51296580e-09, -2.30078479e-12,  6.31369124e-12,\n        -8.08542171e-12,  8.48226257e-13,  1.66637652e-15,  8.18777858e-15,\n         1.36996132e-15,  7.30563470e-15, -2.57386549e-16]),\n array([ 0.00000000e+00,  2.98555119e-04,  6.58885546e-02, -4.95344067e-08,\n        -2.72416385e-08, -4.19312656e-09,  1.37580870e-12, -1.39988279e-11,\n         1.80873498e-12, -2.80413971e-11,  1.58408148e-15,  1.08885266e-15,\n         8.98048431e-15, -2.00010677e-16,  1.64817452e-14]),\n array([-0.00000000e+00,  1.52922284e+01,  7.56481028e-05,  8.15983179e-05,\n         1.87402374e-05,  9.31216768e-06,  1.29274616e-07, -3.49953296e-07,\n         4.38997784e-07, -3.76992158e-08, -1.34860405e-09, -6.70880207e-09,\n        -1.05985661e-09, -5.80198093e-09,  6.24489048e-11]),\n array([ 0.00000000e+00, -6.93932290e-02,  1.51773082e+01,  1.75103122e-04,\n         9.64268032e-05,  1.51910166e-05, -6.75926333e-08,  7.51409162e-07,\n        -1.22240497e-07,  1.45710852e-06, -1.25278276e-09, -7.66832039e-10,\n        -7.18986754e-09,  1.07977670e-10, -1.34489394e-08]),\n -89.73841214916976,\n -9.42807274998409e-17,\n -0.0,\n 0.0)"
          },
          "metadata": {}
        }
      ],
      "execution_count": 6,
      "metadata": {
        "collapsed": false,
        "jupyter": {
          "source_hidden": false,
          "outputs_hidden": false
        },
        "nteract": {
          "transient": {
            "deleting": false
          }
        },
        "execution": {
          "iopub.status.busy": "2021-05-20T15:27:16.816Z",
          "iopub.execute_input": "2021-05-20T15:27:16.820Z",
          "iopub.status.idle": "2021-05-20T15:27:16.908Z",
          "shell.execute_reply": "2021-05-20T15:27:16.911Z"
        }
      }
    },
    {
      "cell_type": "code",
      "source": [
        "#The `poly_coeffs` above is a tuple of arrays and floats with:\n",
        "#```AR, BR, CR, DR, V3SciXAngle, V3SciYAngle, V2Ref, V3Ref```\n",
        "\n",
        "#Note that `(V2Ref, V3Ref) = (0, 0)` above, which means the distortion coefficients were derived by forcing the SIAF alignments to be zero (the alignements parameters are separated into a difference file). The `V3IdlYAngle` is also forced to be zero (very close to zero in above case at least). By definition, `V3SciYAngle = V3IdlYAngle`, so the question is whether we just apply the same rotation to the `V3SciXAngle` above to calculate the final `V3SciXAngle`."
      ],
      "outputs": [],
      "execution_count": 11,
      "metadata": {
        "collapsed": true,
        "jupyter": {
          "source_hidden": false,
          "outputs_hidden": false
        },
        "nteract": {
          "transient": {
            "deleting": false
          }
        },
        "execution": {
          "iopub.status.busy": "2021-05-20T15:55:27.328Z",
          "iopub.execute_input": "2021-05-20T15:55:27.335Z",
          "iopub.status.idle": "2021-05-20T15:55:27.344Z",
          "shell.execute_reply": "2021-05-20T15:55:27.350Z"
        }
      }
    },
    {
      "cell_type": "code",
      "source": [
        "# Based on the \"niriss_siaf_alignment.txt\" file, V3IdlYAngle = 0.5698701825418142.\n",
        "# Let's simply try adding that value to the V3SciXAngle above.\n",
        "poly_coeffs[4] + 0.5698701825418142"
      ],
      "outputs": [
        {
          "output_type": "execute_result",
          "execution_count": 8,
          "data": {
            "text/plain": "-89.16854196662794"
          },
          "metadata": {}
        }
      ],
      "execution_count": 8,
      "metadata": {
        "collapsed": true,
        "jupyter": {
          "source_hidden": false,
          "outputs_hidden": false
        },
        "nteract": {
          "transient": {
            "deleting": false
          }
        },
        "execution": {
          "iopub.status.busy": "2021-05-20T15:35:24.588Z",
          "iopub.execute_input": "2021-05-20T15:35:24.592Z",
          "iopub.status.idle": "2021-05-20T15:35:24.604Z",
          "shell.execute_reply": "2021-05-20T15:35:24.609Z"
        }
      }
    },
    {
      "cell_type": "code",
      "source": [
        "# The \"niriss_siaf_alignment.txt\" file lists V3SciXAngle = -89.69171766828843\n",
        "# So, simply adding V3IdlYAngle does definitely NOT give the V3SciXAngle value.\n",
        "# In fact, the original poly_coeffs[4] is CLOSER to the V3SciXAngle listed in \"niriss_siaf_alignment.txt\" file.\n",
        "# Let's take the difference between the two:\n",
        "poly_coeffs[4] - (-89.69171766828843)"
      ],
      "outputs": [
        {
          "output_type": "execute_result",
          "execution_count": 9,
          "data": {
            "text/plain": "-0.046694480881328104"
          },
          "metadata": {}
        }
      ],
      "execution_count": 9,
      "metadata": {
        "collapsed": true,
        "jupyter": {
          "source_hidden": false,
          "outputs_hidden": false
        },
        "nteract": {
          "transient": {
            "deleting": false
          }
        },
        "execution": {
          "iopub.status.busy": "2021-05-20T15:38:27.422Z",
          "iopub.execute_input": "2021-05-20T15:38:27.428Z",
          "iopub.status.idle": "2021-05-20T15:38:27.440Z",
          "shell.execute_reply": "2021-05-20T15:38:27.444Z"
        }
      }
    },
    {
      "cell_type": "code",
      "source": [
        "# Where does the difference above come from?"
      ],
      "outputs": [],
      "execution_count": null,
      "metadata": {
        "collapsed": true,
        "jupyter": {
          "source_hidden": false,
          "outputs_hidden": false
        },
        "nteract": {
          "transient": {
            "deleting": false
          }
        }
      }
    }
  ],
  "metadata": {
    "kernel_info": {
      "name": "python3"
    },
    "language_info": {
      "name": "python",
      "version": "3.6.13",
      "mimetype": "text/x-python",
      "codemirror_mode": {
        "name": "ipython",
        "version": 3
      },
      "pygments_lexer": "ipython3",
      "nbconvert_exporter": "python",
      "file_extension": ".py"
    },
    "kernelspec": {
      "argv": [
        "/Users/tsohn/anaconda3/envs/fpa/bin/python",
        "-m",
        "ipykernel_launcher",
        "-f",
        "{connection_file}"
      ],
      "display_name": "Python 3",
      "language": "python",
      "name": "python3"
    },
    "nteract": {
      "version": "0.28.0"
    }
  },
  "nbformat": 4,
  "nbformat_minor": 0
}